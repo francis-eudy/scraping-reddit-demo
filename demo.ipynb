{
 "cells": [
  {
   "cell_type": "code",
   "execution_count": 1,
   "metadata": {},
   "outputs": [],
   "source": [
    "import os\n",
    "import praw"
   ]
  },
  {
   "cell_type": "code",
   "execution_count": 6,
   "metadata": {},
   "outputs": [],
   "source": [
    "CLIENT_ID = os.environ['REDDIT_CLIENT_ID']\n",
    "CLIENT_SECRET = os.environ['REDDIT_SECRET']\n",
    "USER_AGENT = os.environ['REDDIT_USER_AGENT']"
   ]
  },
  {
   "cell_type": "code",
   "execution_count": 7,
   "metadata": {},
   "outputs": [],
   "source": [
    "reddit = praw.Reddit(\n",
    "    client_id=CLIENT_ID, \n",
    "    client_secret=CLIENT_SECRET, \n",
    "    user_agent=USER_AGENT)"
   ]
  },
  {
   "cell_type": "code",
   "execution_count": 9,
   "metadata": {},
   "outputs": [
    {
     "name": "stdout",
     "output_type": "stream",
     "text": [
      "Weekend Discussion Thread for the Weekend of March 12, 2021\n",
      "A message to WSB from the Director of the Dian Fossey Gorilla Fund!\n",
      "Literally cant go tits up! #ApesAdoptingApes\n",
      "Adopted a family\n",
      "I see your baby Orangutan, and raise you another.\n",
      "Inspired by the many posts now on Gorilla adoption, I have also adopted one. Meet Ishimwe!\n",
      "Just helping out my fellow apes!\n",
      "I teach high school, which means I explain things to idiots every day. If you still don't understand call options, I got you.\n",
      "I see your gorillaz and give you a baby orangutan.\n",
      "Adopted Gorillas\n"
     ]
    }
   ],
   "source": [
    "subreddit = 'WallStreetBets'\n",
    "hot_posts = reddit.subreddit(subreddit).hot(limit=10)\n",
    "for post in hot_posts:\n",
    "    print(post.title)"
   ]
  },
  {
   "cell_type": "code",
   "execution_count": null,
   "metadata": {},
   "outputs": [],
   "source": []
  }
 ],
 "metadata": {
  "kernelspec": {
   "display_name": "Python 3",
   "language": "python",
   "name": "python3"
  },
  "language_info": {
   "codemirror_mode": {
    "name": "ipython",
    "version": 3
   },
   "file_extension": ".py",
   "mimetype": "text/x-python",
   "name": "python",
   "nbconvert_exporter": "python",
   "pygments_lexer": "ipython3",
   "version": "3.8.0"
  }
 },
 "nbformat": 4,
 "nbformat_minor": 4
}
